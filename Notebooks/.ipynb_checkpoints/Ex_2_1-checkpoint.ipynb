{
 "cells": [
  {
   "cell_type": "code",
   "execution_count": 1,
   "metadata": {
    "collapsed": false
   },
   "outputs": [],
   "source": [
    "%matplotlib inline"
   ]
  },
  {
   "cell_type": "code",
   "execution_count": 2,
   "metadata": {
    "collapsed": true
   },
   "outputs": [],
   "source": [
    "import despy.dp as dp\n",
    "import models.Ex2_1_model as ex2_1"
   ]
  },
  {
   "cell_type": "code",
   "execution_count": 3,
   "metadata": {
    "collapsed": false
   },
   "outputs": [],
   "source": [
    "mod = ex2_1.SingleChannelQueue()\n",
    "sim = dp.Simulation(model = mod)\n",
    "sim.config.reps = 5\n",
    "sim.config.folder_basename = \"C:/Projects/notebook_out/ex_2_1\""
   ]
  },
  {
   "cell_type": "code",
   "execution_count": 4,
   "metadata": {
    "collapsed": false,
    "scrolled": true
   },
   "outputs": [
    {
     "name": "stdout",
     "output_type": "stream",
     "text": [
      "\n",
      "===== Initializing=================================\n",
      "Initialized arrival_timer\n",
      "Initialized server\n",
      "Initialized server_q\n",
      "Initialized single_q_model\n",
      "All Components Initialized.\n"
     ]
    }
   ],
   "source": [
    "sim.initialize()"
   ]
  },
  {
   "cell_type": "code",
   "execution_count": 5,
   "metadata": {
    "collapsed": false
   },
   "outputs": [
    {
     "name": "stdout",
     "output_type": "stream",
     "text": [
      "\n",
      "===== Running======================================\n",
      "\n",
      "===== Setup Rep #0 ================================\n",
      "Setup arrival_timer\n",
      "Setup server\n",
      "Setup server_q\n",
      "Setup single_q_model\n",
      "\n",
      "===== Teardown Rep #0 =============================\n",
      "Teardown arrival_timer\n",
      "Teardown server\n",
      "Teardown server_q\n",
      "Teardown single_q_model\n",
      "\n",
      "===== Setup Rep #1 ================================\n",
      "Setup arrival_timer\n",
      "Setup server\n",
      "Setup server_q\n",
      "Setup single_q_model\n",
      "\n",
      "===== Teardown Rep #1 =============================\n",
      "Teardown arrival_timer\n",
      "Teardown server\n",
      "Teardown server_q\n",
      "Teardown single_q_model\n",
      "\n",
      "===== Setup Rep #2 ================================\n",
      "Setup arrival_timer\n",
      "Setup server\n",
      "Setup server_q\n",
      "Setup single_q_model\n",
      "\n",
      "===== Teardown Rep #2 =============================\n",
      "Teardown arrival_timer\n",
      "Teardown server\n",
      "Teardown server_q\n",
      "Teardown single_q_model\n",
      "\n",
      "===== Setup Rep #3 ================================\n",
      "Setup arrival_timer\n",
      "Setup server\n",
      "Setup server_q\n",
      "Setup single_q_model\n",
      "\n",
      "===== Teardown Rep #3 =============================\n",
      "Teardown arrival_timer\n",
      "Teardown server\n",
      "Teardown server_q\n",
      "Teardown single_q_model\n",
      "\n",
      "===== Setup Rep #4 ================================\n",
      "Setup arrival_timer\n",
      "Setup server\n",
      "Setup server_q\n",
      "Setup single_q_model\n",
      "\n",
      "===== Teardown Rep #4 =============================\n",
      "Teardown arrival_timer\n",
      "Teardown server\n",
      "Teardown server_q\n",
      "Teardown single_q_model\n",
      "\n",
      "===== Simulation Completed=========================\n"
     ]
    }
   ],
   "source": [
    "sim.run(100)"
   ]
  },
  {
   "cell_type": "code",
   "execution_count": 6,
   "metadata": {
    "collapsed": false
   },
   "outputs": [
    {
     "name": "stdout",
     "output_type": "stream",
     "text": [
      "\n",
      "===== Finalizing===================================\n",
      "Finalized arrival_timer\n",
      "Finalized server\n",
      "Finalized server_q\n",
      "Finalized single_q_model\n"
     ]
    }
   ],
   "source": [
    "results = sim.finalize()"
   ]
  },
  {
   "cell_type": "code",
   "execution_count": 7,
   "metadata": {
    "collapsed": false
   },
   "outputs": [
    {
     "name": "stdout",
     "output_type": "stream",
     "text": [
      "Seed: None\n",
      "Initial Time: 0\n",
      "Run Start Time: 2016-02-14 08:34:18.656465\n",
      "Run Stop Time: 2016-02-14 08:34:18.671466\n",
      "Elapsed Time: 0:00:00.015001\n"
     ]
    }
   ],
   "source": [
    "results.list_values()"
   ]
  },
  {
   "cell_type": "code",
   "execution_count": 8,
   "metadata": {
    "collapsed": false
   },
   "outputs": [
    {
     "name": "stdout",
     "output_type": "stream",
     "text": [
      "[47, 24, 18, 25, 24]\n"
     ]
    }
   ],
   "source": [
    "print(results.event_counter.rep_counts)"
   ]
  },
  {
   "cell_type": "code",
   "execution_count": 9,
   "metadata": {
    "collapsed": false
   },
   "outputs": [
    {
     "data": {
      "image/png": "[encoded data removed]",
      "text/plain": [
       "<matplotlib.figure.Figure at 0x7b28ef0>"
      ]
     },
     "metadata": {},
     "output_type": "display_data"
    },
    {
     "data": {
      "text/plain": [
       "<matplotlib.figure.Figure at 0x7e1f048>"
      ]
     },
     "metadata": {},
     "output_type": "display_data"
    }
   ],
   "source": [
    "results.event_counter.show_plot()"
   ]
  },
  {
   "cell_type": "code",
   "execution_count": 10,
   "metadata": {
    "collapsed": false
   },
   "outputs": [
    {
     "name": "stdout",
     "output_type": "stream",
     "text": [
      "   0|   0|    0-1|Event   |arrival_timer    |interval         :1    |Customer         :Customer:1\n",
      "   1|   0|    0-1|Msg     |Starting Service |server station   :0    |Entity           :Customer:1\n",
      "   2|   0|    1-1|Msg     |Entering Queue   |Length           :1    |Entity           :Customer:2\n",
      "   3|   0|    1-1|Event   |arrival_timer    |interval         :4    |Customer         :Customer:2\n",
      "   4|   0|    3+0|Msg     |Leaving Queue    |Length           :0    |Entity           :Customer:2|Time_in_Q        :2    \n",
      "   5|   0|    3+0|Event   |Finished_Service |server: duration :3    |Entity           :Customer:1\n",
      "   6|   0|    3+0|Msg     |Starting Service |server station   :0    |Entity           :Customer:2\n",
      "   7|   0|    5-1|Msg     |Entering Queue   |Length           :1    |Entity           :Customer:3\n",
      "   8|   0|    5-1|Event   |arrival_timer    |interval         :6    |Customer         :Customer:3\n",
      "   9|   0|    6+0|Msg     |Leaving Queue    |Length           :0    |Entity           :Customer:3|Time_in_Q        :1    \n",
      "  10|   0|    6+0|Event   |Finished_Service |server: duration :3    |Entity           :Customer:2\n",
      "  11|   0|    6+0|Msg     |Starting Service |server station   :0    |Entity           :Customer:3\n",
      "  12|   0|    9+0|Event   |Finished_Service |server: duration :3    |Entity           :Customer:3\n",
      "  13|   0|   11-1|Event   |arrival_timer    |interval         :4    |Customer         :Customer:4\n",
      "  14|   0|   11-1|Msg     |Starting Service |server station   :0    |Entity           :Customer:4\n",
      "  15|   0|   14+0|Event   |Finished_Service |server: duration :3    |Entity           :Customer:4\n",
      "  16|   0|   15-1|Event   |arrival_timer    |interval         :1    |Customer         :Customer:5\n",
      "  17|   0|   15-1|Msg     |Starting Service |server station   :0    |Entity           :Customer:5\n",
      "  18|   0|   16-1|Msg     |Entering Queue   |Length           :1    |Entity           :Customer:6\n",
      "  19|   0|   16-1|Event   |arrival_timer    |interval         :7    |Customer         :Customer:6\n",
      "  20|   0|   21+0|Msg     |Leaving Queue    |Length           :0    |Entity           :Customer:6|Time_in_Q        :5    \n",
      "  21|   0|   21+0|Event   |Finished_Service |server: duration :6    |Entity           :Customer:5\n",
      "  22|   0|   21+0|Msg     |Starting Service |server station   :0    |Entity           :Customer:6\n",
      "  23|   0|   23-1|Msg     |Entering Queue   |Length           :1    |Entity           :Customer:7\n",
      "  24|   0|   23-1|Event   |arrival_timer    |interval         :8    |Customer         :Customer:7\n",
      "  25|   0|   24+0|Msg     |Leaving Queue    |Length           :0    |Entity           :Customer:7|Time_in_Q        :1    \n",
      "  26|   0|   24+0|Event   |Finished_Service |server: duration :3    |Entity           :Customer:6\n",
      "  27|   0|   24+0|Msg     |Starting Service |server station   :0    |Entity           :Customer:7\n",
      "  28|   0|   28+0|Event   |Finished_Service |server: duration :4    |Entity           :Customer:7\n",
      "  29|   0|   31-1|Event   |arrival_timer    |interval         :5    |Customer         :Customer:8\n",
      "  30|   0|   31-1|Msg     |Starting Service |server station   :0    |Entity           :Customer:8\n",
      "  31|   0|   33+0|Event   |Finished_Service |server: duration :2    |Entity           :Customer:8\n",
      "  32|   0|   36-1|Event   |arrival_timer    |interval         :4    |Customer         :Customer:9\n",
      "  33|   0|   36-1|Msg     |Starting Service |server station   :0    |Entity           :Customer:9\n",
      "  34|   0|   38+0|Event   |Finished_Service |server: duration :2    |Entity           :Customer:9\n",
      "  35|   0|   40-1|Event   |arrival_timer    |interval         :1    |Customer         :Customer:10\n",
      "  36|   0|   40-1|Msg     |Starting Service |server station   :0    |Entity           :Customer:10\n",
      "  37|   0|   41-1|Msg     |Entering Queue   |Length           :1    |Entity           :Customer:11\n",
      "  38|   0|   41-1|Event   |arrival_timer    |interval         :1    |Customer         :Customer:11\n",
      "  39|   0|   42-1|Msg     |Entering Queue   |Length           :2    |Entity           :Customer:12\n",
      "  40|   0|   42-1|Event   |arrival_timer    |interval         :4    |Customer         :Customer:12\n",
      "  41|   0|   44+0|Msg     |Leaving Queue    |Length           :1    |Entity           :Customer:11|Time_in_Q        :3    \n",
      "  42|   0|   44+0|Event   |Finished_Service |server: duration :4    |Entity           :Customer:10\n",
      "  43|   0|   44+0|Msg     |Starting Service |server station   :0    |Entity           :Customer:11\n",
      "  44|   0|   46-1|Msg     |Entering Queue   |Length           :2    |Entity           :Customer:13\n",
      "  45|   0|   46-1|Event   |arrival_timer    |interval         :3    |Customer         :Customer:13\n",
      "  46|   0|   46+0|Msg     |Leaving Queue    |Length           :1    |Entity           :Customer:12|Time_in_Q        :4    \n",
      "  47|   0|   46+0|Event   |Finished_Service |server: duration :2    |Entity           :Customer:11\n",
      "  48|   0|   46+0|Msg     |Starting Service |server station   :0    |Entity           :Customer:12\n",
      "  49|   0|   48+0|Msg     |Leaving Queue    |Length           :0    |Entity           :Customer:13|Time_in_Q        :2    \n",
      "  50|   0|   48+0|Event   |Finished_Service |server: duration :2    |Entity           :Customer:12\n",
      "  51|   0|   48+0|Msg     |Starting Service |server station   :0    |Entity           :Customer:13\n",
      "  52|   0|   49-1|Msg     |Entering Queue   |Length           :1    |Entity           :Customer:14\n",
      "  53|   0|   49-1|Event   |arrival_timer    |interval         :1    |Customer         :Customer:14\n",
      "  54|   0|   50-1|Msg     |Entering Queue   |Length           :2    |Entity           :Customer:15\n",
      "  55|   0|   50-1|Event   |arrival_timer    |interval         :8    |Customer         :Customer:15\n",
      "  56|   0|   54+0|Msg     |Leaving Queue    |Length           :1    |Entity           :Customer:14|Time_in_Q        :5    \n",
      "  57|   0|   54+0|Event   |Finished_Service |server: duration :6    |Entity           :Customer:13\n",
      "  58|   0|   54+0|Msg     |Starting Service |server station   :0    |Entity           :Customer:14\n",
      "  59|   0|   56+0|Msg     |Leaving Queue    |Length           :0    |Entity           :Customer:15|Time_in_Q        :6    \n",
      "  60|   0|   56+0|Event   |Finished_Service |server: duration :2    |Entity           :Customer:14\n",
      "  61|   0|   56+0|Msg     |Starting Service |server station   :0    |Entity           :Customer:15\n",
      "  62|   0|   57+0|Event   |Finished_Service |server: duration :1    |Entity           :Customer:15\n",
      "  63|   0|   58-1|Event   |arrival_timer    |interval         :8    |Customer         :Customer:16\n",
      "  64|   0|   58-1|Msg     |Starting Service |server station   :0    |Entity           :Customer:16\n",
      "  65|   0|   62+0|Event   |Finished_Service |server: duration :4    |Entity           :Customer:16\n",
      "  66|   0|   66-1|Event   |arrival_timer    |interval         :5    |Customer         :Customer:17\n",
      "  67|   0|   66-1|Msg     |Starting Service |server station   :0    |Entity           :Customer:17\n",
      "  68|   0|   70+0|Event   |Finished_Service |server: duration :4    |Entity           :Customer:17\n",
      "  69|   0|   71-1|Event   |arrival_timer    |interval         :6    |Customer         :Customer:18\n",
      "  70|   0|   71-1|Msg     |Starting Service |server station   :0    |Entity           :Customer:18\n",
      "  71|   0|   75+0|Event   |Finished_Service |server: duration :4    |Entity           :Customer:18\n",
      "  72|   0|   77-1|Event   |arrival_timer    |interval         :7    |Customer         :Customer:19\n",
      "  73|   0|   77-1|Msg     |Starting Service |server station   :0    |Entity           :Customer:19\n",
      "  74|   0|   82+0|Event   |Finished_Service |server: duration :5    |Entity           :Customer:19\n",
      "  75|   0|   84-1|Event   |arrival_timer    |interval         :1    |Customer         :Customer:20\n",
      "  76|   0|   84-1|Msg     |Starting Service |server station   :0    |Entity           :Customer:20\n",
      "  77|   0|   85-1|Msg     |Entering Queue   |Length           :1    |Entity           :Customer:21\n",
      "  78|   0|   85-1|Event   |arrival_timer    |interval         :4    |Customer         :Customer:21\n",
      "  79|   0|   86+0|Msg     |Leaving Queue    |Length           :0    |Entity           :Customer:21|Time_in_Q        :1    \n",
      "  80|   0|   86+0|Event   |Finished_Service |server: duration :2    |Entity           :Customer:20\n",
      "  81|   0|   86+0|Msg     |Starting Service |server station   :0    |Entity           :Customer:21\n",
      "  82|   0|   89-1|Msg     |Entering Queue   |Length           :1    |Entity           :Customer:22\n",
      "  83|   0|   89-1|Event   |arrival_timer    |interval         :4    |Customer         :Customer:22\n",
      "  84|   0|   91+0|Msg     |Leaving Queue    |Length           :0    |Entity           :Customer:22|Time_in_Q        :2    \n",
      "  85|   0|   91+0|Event   |Finished_Service |server: duration :5    |Entity           :Customer:21\n",
      "  86|   0|   91+0|Msg     |Starting Service |server station   :0    |Entity           :Customer:22\n",
      "  87|   0|   93-1|Msg     |Entering Queue   |Length           :1    |Entity           :Customer:23\n",
      "  88|   0|   93-1|Event   |arrival_timer    |interval         :3    |Customer         :Customer:23\n",
      "  89|   0|   94+0|Msg     |Leaving Queue    |Length           :0    |Entity           :Customer:23|Time_in_Q        :1    \n",
      "  90|   0|   94+0|Event   |Finished_Service |server: duration :3    |Entity           :Customer:22\n",
      "  91|   0|   94+0|Msg     |Starting Service |server station   :0    |Entity           :Customer:23\n",
      "  92|   0|   96-1|Msg     |Entering Queue   |Length           :1    |Entity           :Customer:24\n",
      "  93|   0|   96-1|Event   |arrival_timer    |interval         :6    |Customer         :Customer:24\n",
      "  94|   0|   97+0|Msg     |Leaving Queue    |Length           :0    |Entity           :Customer:24|Time_in_Q        :1    \n",
      "  95|   0|   97+0|Event   |Finished_Service |server: duration :3    |Entity           :Customer:23\n",
      "  96|   0|   97+0|Msg     |Starting Service |server station   :0    |Entity           :Customer:24\n",
      "  97|   1|    0-1|Msg     |Entering Queue   |Length           :1    |Entity           :Customer:25\n",
      "  98|   1|    0-1|Event   |arrival_timer    |interval         :6    |Customer         :Customer:25\n",
      "  99|   1|    6-1|Msg     |Entering Queue   |Length           :2    |Entity           :Customer:26\n",
      " 100|   1|    6-1|Event   |arrival_timer    |interval         :6    |Customer         :Customer:26\n",
      " 101|   1|   12-1|Msg     |Entering Queue   |Length           :3    |Entity           :Customer:27\n",
      " 102|   1|   12-1|Event   |arrival_timer    |interval         :5    |Customer         :Customer:27\n",
      " 103|   1|   17-1|Msg     |Entering Queue   |Length           :4    |Entity           :Customer:28\n",
      " 104|   1|   17-1|Event   |arrival_timer    |interval         :3    |Customer         :Customer:28\n",
      " 105|   1|   20-1|Msg     |Entering Queue   |Length           :5    |Entity           :Customer:29\n",
      " 106|   1|   20-1|Event   |arrival_timer    |interval         :3    |Customer         :Customer:29\n",
      " 107|   1|   23-1|Msg     |Entering Queue   |Length           :6    |Entity           :Customer:30\n",
      " 108|   1|   23-1|Event   |arrival_timer    |interval         :8    |Customer         :Customer:30\n",
      " 109|   1|   31-1|Msg     |Entering Queue   |Length           :7    |Entity           :Customer:31\n",
      " 110|   1|   31-1|Event   |arrival_timer    |interval         :2    |Customer         :Customer:31\n",
      " 111|   1|   33-1|Msg     |Entering Queue   |Length           :8    |Entity           :Customer:32\n",
      " 112|   1|   33-1|Event   |arrival_timer    |interval         :2    |Customer         :Customer:32\n",
      " 113|   1|   35-1|Msg     |Entering Queue   |Length           :9    |Entity           :Customer:33\n",
      " 114|   1|   35-1|Event   |arrival_timer    |interval         :3    |Customer         :Customer:33\n",
      " 115|   1|   38-1|Msg     |Entering Queue   |Length           :10   |Entity           :Customer:34\n",
      " 116|   1|   38-1|Event   |arrival_timer    |interval         :8    |Customer         :Customer:34\n",
      " 117|   1|   46-1|Msg     |Entering Queue   |Length           :11   |Entity           :Customer:35\n",
      " 118|   1|   46-1|Event   |arrival_timer    |interval         :1    |Customer         :Customer:35\n",
      " 119|   1|   47-1|Msg     |Entering Queue   |Length           :12   |Entity           :Customer:36\n",
      " 120|   1|   47-1|Event   |arrival_timer    |interval         :5    |Customer         :Customer:36\n",
      " 121|   1|   52-1|Msg     |Entering Queue   |Length           :13   |Entity           :Customer:37\n",
      " 122|   1|   52-1|Event   |arrival_timer    |interval         :1    |Customer         :Customer:37\n",
      " 123|   1|   53-1|Msg     |Entering Queue   |Length           :14   |Entity           :Customer:38\n",
      " 124|   1|   53-1|Event   |arrival_timer    |interval         :8    |Customer         :Customer:38\n",
      " 125|   1|   61-1|Msg     |Entering Queue   |Length           :15   |Entity           :Customer:39\n",
      " 126|   1|   61-1|Event   |arrival_timer    |interval         :2    |Customer         :Customer:39\n",
      " 127|   1|   63-1|Msg     |Entering Queue   |Length           :16   |Entity           :Customer:40\n",
      " 128|   1|   63-1|Event   |arrival_timer    |interval         :4    |Customer         :Customer:40\n",
      " 129|   1|   67-1|Msg     |Entering Queue   |Length           :17   |Entity           :Customer:41\n",
      " 130|   1|   67-1|Event   |arrival_timer    |interval         :2    |Customer         :Customer:41\n",
      " 131|   1|   69-1|Msg     |Entering Queue   |Length           :18   |Entity           :Customer:42\n",
      " 132|   1|   69-1|Event   |arrival_timer    |interval         :6    |Customer         :Customer:42\n",
      " 133|   1|   75-1|Msg     |Entering Queue   |Length           :19   |Entity           :Customer:43\n",
      " 134|   1|   75-1|Event   |arrival_timer    |interval         :2    |Customer         :Customer:43\n",
      " 135|   1|   77-1|Msg     |Entering Queue   |Length           :20   |Entity           :Customer:44\n",
      " 136|   1|   77-1|Event   |arrival_timer    |interval         :6    |Customer         :Customer:44\n",
      " 137|   1|   83-1|Msg     |Entering Queue   |Length           :21   |Entity           :Customer:45\n",
      " 138|   1|   83-1|Event   |arrival_timer    |interval         :3    |Customer         :Customer:45\n",
      " 139|   1|   86-1|Msg     |Entering Queue   |Length           :22   |Entity           :Customer:46\n",
      " 140|   1|   86-1|Event   |arrival_timer    |interval         :7    |Customer         :Customer:46\n",
      " 141|   1|   93-1|Msg     |Entering Queue   |Length           :23   |Entity           :Customer:47\n",
      " 142|   1|   93-1|Event   |arrival_timer    |interval         :7    |Customer         :Customer:47\n",
      " 143|   1|  100-1|Msg     |Entering Queue   |Length           :24   |Entity           :Customer:48\n",
      " 144|   1|  100-1|Event   |arrival_timer    |interval         :5    |Customer         :Customer:48\n",
      " 145|   2|    0-1|Msg     |Entering Queue   |Length           :25   |Entity           :Customer:49\n",
      " 146|   2|    0-1|Event   |arrival_timer    |interval         :6    |Customer         :Customer:49\n",
      " 147|   2|    6-1|Msg     |Entering Queue   |Length           :26   |Entity           :Customer:50\n",
      " 148|   2|    6-1|Event   |arrival_timer    |interval         :1    |Customer         :Customer:50\n",
      " 149|   2|    7-1|Msg     |Entering Queue   |Length           :27   |Entity           :Customer:51\n",
      " 150|   2|    7-1|Event   |arrival_timer    |interval         :6    |Customer         :Customer:51\n",
      " 151|   2|   13-1|Msg     |Entering Queue   |Length           :28   |Entity           :Customer:52\n",
      " 152|   2|   13-1|Event   |arrival_timer    |interval         :7    |Customer         :Customer:52\n",
      " 153|   2|   20-1|Msg     |Entering Queue   |Length           :29   |Entity           :Customer:53\n",
      " 154|   2|   20-1|Event   |arrival_timer    |interval         :7    |Customer         :Customer:53\n",
      " 155|   2|   27-1|Msg     |Entering Queue   |Length           :30   |Entity           :Customer:54\n",
      " 156|   2|   27-1|Event   |arrival_timer    |interval         :7    |Customer         :Customer:54\n",
      " 157|   2|   34-1|Msg     |Entering Queue   |Length           :31   |Entity           :Customer:55\n",
      " 158|   2|   34-1|Event   |arrival_timer    |interval         :8    |Customer         :Customer:55\n",
      " 159|   2|   42-1|Msg     |Entering Queue   |Length           :32   |Entity           :Customer:56\n",
      " 160|   2|   42-1|Event   |arrival_timer    |interval         :8    |Customer         :Customer:56\n",
      " 161|   2|   50-1|Msg     |Entering Queue   |Length           :33   |Entity           :Customer:57\n",
      " 162|   2|   50-1|Event   |arrival_timer    |interval         :7    |Customer         :Customer:57\n",
      " 163|   2|   57-1|Msg     |Entering Queue   |Length           :34   |Entity           :Customer:58\n",
      " 164|   2|   57-1|Event   |arrival_timer    |interval         :5    |Customer         :Customer:58\n",
      " 165|   2|   62-1|Msg     |Entering Queue   |Length           :35   |Entity           :Customer:59\n",
      " 166|   2|   62-1|Event   |arrival_timer    |interval         :8    |Customer         :Customer:59\n",
      " 167|   2|   70-1|Msg     |Entering Queue   |Length           :36   |Entity           :Customer:60\n",
      " 168|   2|   70-1|Event   |arrival_timer    |interval         :4    |Customer         :Customer:60\n",
      " 169|   2|   74-1|Msg     |Entering Queue   |Length           :37   |Entity           :Customer:61\n",
      " 170|   2|   74-1|Event   |arrival_timer    |interval         :4    |Customer         :Customer:61\n",
      " 171|   2|   78-1|Msg     |Entering Queue   |Length           :38   |Entity           :Customer:62\n",
      " 172|   2|   78-1|Event   |arrival_timer    |interval         :3    |Customer         :Customer:62\n",
      " 173|   2|   81-1|Msg     |Entering Queue   |Length           :39   |Entity           :Customer:63\n",
      " 174|   2|   81-1|Event   |arrival_timer    |interval         :6    |Customer         :Customer:63\n",
      " 175|   2|   87-1|Msg     |Entering Queue   |Length           :40   |Entity           :Customer:64\n",
      " 176|   2|   87-1|Event   |arrival_timer    |interval         :2    |Customer         :Customer:64\n",
      " 177|   2|   89-1|Msg     |Entering Queue   |Length           :41   |Entity           :Customer:65\n",
      " 178|   2|   89-1|Event   |arrival_timer    |interval         :7    |Customer         :Customer:65\n",
      " 179|   2|   96-1|Msg     |Entering Queue   |Length           :42   |Entity           :Customer:66\n",
      " 180|   2|   96-1|Event   |arrival_timer    |interval         :6    |Customer         :Customer:66\n",
      " 181|   3|    0-1|Msg     |Entering Queue   |Length           :43   |Entity           :Customer:67\n",
      " 182|   3|    0-1|Event   |arrival_timer    |interval         :6    |Customer         :Customer:67\n",
      " 183|   3|    6-1|Msg     |Entering Queue   |Length           :44   |Entity           :Customer:68\n",
      " 184|   3|    6-1|Event   |arrival_timer    |interval         :3    |Customer         :Customer:68\n",
      " 185|   3|    9-1|Msg     |Entering Queue   |Length           :45   |Entity           :Customer:69\n",
      " 186|   3|    9-1|Event   |arrival_timer    |interval         :3    |Customer         :Customer:69\n",
      " 187|   3|   12-1|Msg     |Entering Queue   |Length           :46   |Entity           :Customer:70\n",
      " 188|   3|   12-1|Event   |arrival_timer    |interval         :2    |Customer         :Customer:70\n",
      " 189|   3|   14-1|Msg     |Entering Queue   |Length           :47   |Entity           :Customer:71\n",
      " 190|   3|   14-1|Event   |arrival_timer    |interval         :5    |Customer         :Customer:71\n",
      " 191|   3|   19-1|Msg     |Entering Queue   |Length           :48   |Entity           :Customer:72\n",
      " 192|   3|   19-1|Event   |arrival_timer    |interval         :8    |Customer         :Customer:72\n",
      " 193|   3|   27-1|Msg     |Entering Queue   |Length           :49   |Entity           :Customer:73\n",
      " 194|   3|   27-1|Event   |arrival_timer    |interval         :1    |Customer         :Customer:73\n",
      " 195|   3|   28-1|Msg     |Entering Queue   |Length           :50   |Entity           :Customer:74\n",
      " 196|   3|   28-1|Event   |arrival_timer    |interval         :3    |Customer         :Customer:74\n",
      " 197|   3|   31-1|Msg     |Entering Queue   |Length           :51   |Entity           :Customer:75\n",
      " 198|   3|   31-1|Event   |arrival_timer    |interval         :2    |Customer         :Customer:75\n",
      " 199|   3|   33-1|Msg     |Entering Queue   |Length           :52   |Entity           :Customer:76\n",
      " 200|   3|   33-1|Event   |arrival_timer    |interval         :8    |Customer         :Customer:76\n",
      " 201|   3|   41-1|Msg     |Entering Queue   |Length           :53   |Entity           :Customer:77\n",
      " 202|   3|   41-1|Event   |arrival_timer    |interval         :1    |Customer         :Customer:77\n",
      " 203|   3|   42-1|Msg     |Entering Queue   |Length           :54   |Entity           :Customer:78\n",
      " 204|   3|   42-1|Event   |arrival_timer    |interval         :2    |Customer         :Customer:78\n",
      " 205|   3|   44-1|Msg     |Entering Queue   |Length           :55   |Entity           :Customer:79\n",
      " 206|   3|   44-1|Event   |arrival_timer    |interval         :2    |Customer         :Customer:79\n",
      " 207|   3|   46-1|Msg     |Entering Queue   |Length           :56   |Entity           :Customer:80\n",
      " 208|   3|   46-1|Event   |arrival_timer    |interval         :6    |Customer         :Customer:80\n",
      " 209|   3|   52-1|Msg     |Entering Queue   |Length           :57   |Entity           :Customer:81\n",
      " 210|   3|   52-1|Event   |arrival_timer    |interval         :8    |Customer         :Customer:81\n",
      " 211|   3|   60-1|Msg     |Entering Queue   |Length           :58   |Entity           :Customer:82\n",
      " 212|   3|   60-1|Event   |arrival_timer    |interval         :4    |Customer         :Customer:82\n",
      " 213|   3|   64-1|Msg     |Entering Queue   |Length           :59   |Entity           :Customer:83\n",
      " 214|   3|   64-1|Event   |arrival_timer    |interval         :6    |Customer         :Customer:83\n",
      " 215|   3|   70-1|Msg     |Entering Queue   |Length           :60   |Entity           :Customer:84\n",
      " 216|   3|   70-1|Event   |arrival_timer    |interval         :8    |Customer         :Customer:84\n",
      " 217|   3|   78-1|Msg     |Entering Queue   |Length           :61   |Entity           :Customer:85\n",
      " 218|   3|   78-1|Event   |arrival_timer    |interval         :4    |Customer         :Customer:85\n",
      " 219|   3|   82-1|Msg     |Entering Queue   |Length           :62   |Entity           :Customer:86\n",
      " 220|   3|   82-1|Event   |arrival_timer    |interval         :1    |Customer         :Customer:86\n",
      " 221|   3|   83-1|Msg     |Entering Queue   |Length           :63   |Entity           :Customer:87\n",
      " 222|   3|   83-1|Event   |arrival_timer    |interval         :5    |Customer         :Customer:87\n",
      " 223|   3|   88-1|Msg     |Entering Queue   |Length           :64   |Entity           :Customer:88\n",
      " 224|   3|   88-1|Event   |arrival_timer    |interval         :4    |Customer         :Customer:88\n",
      " 225|   3|   92-1|Msg     |Entering Queue   |Length           :65   |Entity           :Customer:89\n",
      " 226|   3|   92-1|Event   |arrival_timer    |interval         :1    |Customer         :Customer:89\n",
      " 227|   3|   93-1|Msg     |Entering Queue   |Length           :66   |Entity           :Customer:90\n",
      " 228|   3|   93-1|Event   |arrival_timer    |interval         :7    |Customer         :Customer:90\n",
      " 229|   3|  100-1|Msg     |Entering Queue   |Length           :67   |Entity           :Customer:91\n",
      " 230|   3|  100-1|Event   |arrival_timer    |interval         :2    |Customer         :Customer:91\n",
      " 231|   4|    0-1|Msg     |Entering Queue   |Length           :68   |Entity           :Customer:92\n",
      " 232|   4|    0-1|Event   |arrival_timer    |interval         :6    |Customer         :Customer:92\n",
      " 233|   4|    6-1|Msg     |Entering Queue   |Length           :69   |Entity           :Customer:93\n",
      " 234|   4|    6-1|Event   |arrival_timer    |interval         :8    |Customer         :Customer:93\n",
      " 235|   4|   14-1|Msg     |Entering Queue   |Length           :70   |Entity           :Customer:94\n",
      " 236|   4|   14-1|Event   |arrival_timer    |interval         :3    |Customer         :Customer:94\n",
      " 237|   4|   17-1|Msg     |Entering Queue   |Length           :71   |Entity           :Customer:95\n",
      " 238|   4|   17-1|Event   |arrival_timer    |interval         :3    |Customer         :Customer:95\n",
      " 239|   4|   20-1|Msg     |Entering Queue   |Length           :72   |Entity           :Customer:96\n",
      " 240|   4|   20-1|Event   |arrival_timer    |interval         :2    |Customer         :Customer:96\n",
      " 241|   4|   22-1|Msg     |Entering Queue   |Length           :73   |Entity           :Customer:97\n",
      " 242|   4|   22-1|Event   |arrival_timer    |interval         :1    |Customer         :Customer:97\n",
      " 243|   4|   23-1|Msg     |Entering Queue   |Length           :74   |Entity           :Customer:98\n",
      " 244|   4|   23-1|Event   |arrival_timer    |interval         :2    |Customer         :Customer:98\n",
      " 245|   4|   25-1|Msg     |Entering Queue   |Length           :75   |Entity           :Customer:99\n",
      " 246|   4|   25-1|Event   |arrival_timer    |interval         :6    |Customer         :Customer:99\n",
      " 247|   4|   31-1|Msg     |Entering Queue   |Length           :76   |Entity           :Customer:100\n",
      " 248|   4|   31-1|Event   |arrival_timer    |interval         :1    |Customer         :Customer:100\n",
      " 249|   4|   32-1|Msg     |Entering Queue   |Length           :77   |Entity           :Customer:101\n",
      " 250|   4|   32-1|Event   |arrival_timer    |interval         :6    |Customer         :Customer:101\n",
      " 251|   4|   38-1|Msg     |Entering Queue   |Length           :78   |Entity           :Customer:102\n",
      " 252|   4|   38-1|Event   |arrival_timer    |interval         :7    |Customer         :Customer:102\n",
      " 253|   4|   45-1|Msg     |Entering Queue   |Length           :79   |Entity           :Customer:103\n",
      " 254|   4|   45-1|Event   |arrival_timer    |interval         :6    |Customer         :Customer:103\n",
      " 255|   4|   51-1|Msg     |Entering Queue   |Length           :80   |Entity           :Customer:104\n",
      " 256|   4|   51-1|Event   |arrival_timer    |interval         :5    |Customer         :Customer:104\n",
      " 257|   4|   56-1|Msg     |Entering Queue   |Length           :81   |Entity           :Customer:105\n",
      " 258|   4|   56-1|Event   |arrival_timer    |interval         :4    |Customer         :Customer:105\n",
      " 259|   4|   60-1|Msg     |Entering Queue   |Length           :82   |Entity           :Customer:106\n",
      " 260|   4|   60-1|Event   |arrival_timer    |interval         :6    |Customer         :Customer:106\n",
      " 261|   4|   66-1|Msg     |Entering Queue   |Length           :83   |Entity           :Customer:107\n",
      " 262|   4|   66-1|Event   |arrival_timer    |interval         :8    |Customer         :Customer:107\n",
      " 263|   4|   74-1|Msg     |Entering Queue   |Length           :84   |Entity           :Customer:108\n",
      " 264|   4|   74-1|Event   |arrival_timer    |interval         :2    |Customer         :Customer:108\n",
      " 265|   4|   76-1|Msg     |Entering Queue   |Length           :85   |Entity           :Customer:109\n",
      " 266|   4|   76-1|Event   |arrival_timer    |interval         :1    |Customer         :Customer:109\n",
      " 267|   4|   77-1|Msg     |Entering Queue   |Length           :86   |Entity           :Customer:110\n",
      " 268|   4|   77-1|Event   |arrival_timer    |interval         :5    |Customer         :Customer:110\n",
      " 269|   4|   82-1|Msg     |Entering Queue   |Length           :87   |Entity           :Customer:111\n",
      " 270|   4|   82-1|Event   |arrival_timer    |interval         :3    |Customer         :Customer:111\n",
      " 271|   4|   85-1|Msg     |Entering Queue   |Length           :88   |Entity           :Customer:112\n",
      " 272|   4|   85-1|Event   |arrival_timer    |interval         :1    |Customer         :Customer:112\n",
      " 273|   4|   86-1|Msg     |Entering Queue   |Length           :89   |Entity           :Customer:113\n",
      " 274|   4|   86-1|Event   |arrival_timer    |interval         :4    |Customer         :Customer:113\n",
      " 275|   4|   90-1|Msg     |Entering Queue   |Length           :90   |Entity           :Customer:114\n",
      " 276|   4|   90-1|Event   |arrival_timer    |interval         :7    |Customer         :Customer:114\n",
      " 277|   4|   97-1|Msg     |Entering Queue   |Length           :91   |Entity           :Customer:115\n",
      " 278|   4|   97-1|Event   |arrival_timer    |interval         :5    |Customer         :Customer:115\n"
     ]
    }
   ],
   "source": [
    "results.trace.show()"
   ]
  },
  {
   "cell_type": "code",
   "execution_count": 11,
   "metadata": {
    "collapsed": false
   },
   "outputs": [
    {
     "ename": "OSError",
     "evalue": "[Errno 22] Invalid argument: 'C:\\\\Projects\\notebook_out\\\\ex_2_1/trace.csv'",
     "output_type": "error",
     "traceback": [
      "\u001b[1;31m---------------------------------------------------------------------------\u001b[0m",
      "\u001b[1;31mOSError\u001b[0m                                   Traceback (most recent call last)",
      "\u001b[1;32m<ipython-input-11-b08bc0baf3ed>\u001b[0m in \u001b[0;36m<module>\u001b[1;34m()\u001b[0m\n\u001b[1;32m----> 1\u001b[1;33m \u001b[0mresults\u001b[0m\u001b[1;33m.\u001b[0m\u001b[0mtrace\u001b[0m\u001b[1;33m.\u001b[0m\u001b[0mwrite_csv\u001b[0m\u001b[1;33m(\u001b[0m\u001b[1;33m)\u001b[0m\u001b[1;33m\u001b[0m\u001b[0m\n\u001b[0m",
      "\u001b[1;32mC:\\Projects\\Despy\\despy\\output\\trace.py\u001b[0m in \u001b[0;36mwrite_csv\u001b[1;34m(self, directory)\u001b[0m\n\u001b[0;32m    380\u001b[0m \u001b[1;33m\u001b[0m\u001b[0m\n\u001b[0;32m    381\u001b[0m         \u001b[0mfile\u001b[0m \u001b[1;33m=\u001b[0m \u001b[0mCSV_file\u001b[0m\u001b[1;33m(\u001b[0m\u001b[0mself\u001b[0m\u001b[1;33m,\u001b[0m \u001b[0mdirectory\u001b[0m\u001b[1;33m)\u001b[0m\u001b[1;33m\u001b[0m\u001b[0m\n\u001b[1;32m--> 382\u001b[1;33m         \u001b[0mfile\u001b[0m\u001b[1;33m.\u001b[0m\u001b[0mwrite\u001b[0m\u001b[1;33m(\u001b[0m\u001b[1;33m)\u001b[0m\u001b[1;33m\u001b[0m\u001b[0m\n\u001b[0m\u001b[0;32m    383\u001b[0m         \u001b[1;32mreturn\u001b[0m \u001b[0mfile\u001b[0m\u001b[1;33m\u001b[0m\u001b[0m\n\u001b[0;32m    384\u001b[0m \u001b[1;33m\u001b[0m\u001b[0m\n",
      "\u001b[1;32mC:\\Projects\\Despy\\despy\\output\\trace.py\u001b[0m in \u001b[0;36mwrite\u001b[1;34m(self)\u001b[0m\n\u001b[0;32m    449\u001b[0m         \"\"\"  \n\u001b[0;32m    450\u001b[0m         \u001b[1;31m# Open csv file\u001b[0m\u001b[1;33m\u001b[0m\u001b[1;33m\u001b[0m\u001b[0m\n\u001b[1;32m--> 451\u001b[1;33m         \u001b[1;32mwith\u001b[0m \u001b[0mopen\u001b[0m\u001b[1;33m(\u001b[0m\u001b[0mself\u001b[0m\u001b[1;33m.\u001b[0m\u001b[0mfile_name\u001b[0m\u001b[1;33m,\u001b[0m \u001b[1;34m'w'\u001b[0m\u001b[1;33m,\u001b[0m \u001b[0mnewline\u001b[0m\u001b[1;33m=\u001b[0m\u001b[1;34m''\u001b[0m\u001b[1;33m)\u001b[0m \u001b[1;32mas\u001b[0m \u001b[0mfile\u001b[0m\u001b[1;33m:\u001b[0m\u001b[1;33m\u001b[0m\u001b[0m\n\u001b[0m\u001b[0;32m    452\u001b[0m             \u001b[0mself\u001b[0m\u001b[1;33m.\u001b[0m\u001b[0m_writer\u001b[0m \u001b[1;33m=\u001b[0m \u001b[0mcsv\u001b[0m\u001b[1;33m.\u001b[0m\u001b[0mwriter\u001b[0m\u001b[1;33m(\u001b[0m\u001b[0mfile\u001b[0m\u001b[1;33m)\u001b[0m\u001b[1;33m\u001b[0m\u001b[0m\n\u001b[0;32m    453\u001b[0m \u001b[1;33m\u001b[0m\u001b[0m\n",
      "\u001b[1;31mOSError\u001b[0m: [Errno 22] Invalid argument: 'C:\\\\Projects\\notebook_out\\\\ex_2_1/trace.csv'"
     ]
    }
   ],
   "source": [
    "results.trace.write_csv()"
   ]
  },
  {
   "cell_type": "code",
   "execution_count": null,
   "metadata": {
    "collapsed": true
   },
   "outputs": [],
   "source": []
  }
 ],
 "metadata": {
  "kernelspec": {
   "display_name": "Python 3",
   "language": "python",
   "name": "python3"
  },
  "language_info": {
   "codemirror_mode": {
    "name": "ipython",
    "version": 3
   },
   "file_extension": ".py",
   "mimetype": "text/x-python",
   "name": "python",
   "nbconvert_exporter": "python",
   "pygments_lexer": "ipython3",
   "version": "3.5.1"
  }
 },
 "nbformat": 4,
 "nbformat_minor": 0
}

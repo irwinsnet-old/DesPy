{
 "cells": [
  {
   "cell_type": "code",
   "execution_count": 1,
   "metadata": {
    "collapsed": false
   },
   "outputs": [],
   "source": [
    "import despy.dp as dp\n",
    "import models.Ex2_1_model as ex2_1"
   ]
  },
  {
   "cell_type": "code",
   "execution_count": 2,
   "metadata": {
    "collapsed": false
   },
   "outputs": [],
   "source": [
    "mod = ex2_1.SingleChannelQueue()\n",
    "sim = dp.Simulation(model = mod)\n",
    "sim.config.reps = 2"
   ]
  },
  {
   "cell_type": "code",
   "execution_count": 3,
   "metadata": {
    "collapsed": false,
    "scrolled": true
   },
   "outputs": [
    {
     "name": "stdout",
     "output_type": "stream",
     "text": [
      "\n",
      "===== Initializing=================================\n",
      "Initialized arrival_timer\n",
      "Initialized server\n",
      "Initialized server_q\n",
      "Initialized single_q_model\n",
      "All Components Initialized.\n"
     ]
    }
   ],
   "source": [
    "sim.initialize()"
   ]
  },
  {
   "cell_type": "code",
   "execution_count": 4,
   "metadata": {
    "collapsed": false
   },
   "outputs": [
    {
     "name": "stdout",
     "output_type": "stream",
     "text": [
      "\n",
      "===== Running======================================\n",
      "\n",
      "===== Setup Rep #0 ================================\n",
      "Setup arrival_timer\n",
      "Setup server\n",
      "Setup server_q\n",
      "Setup single_q_model\n",
      "\n",
      "===== Teardown Rep #0 =============================\n",
      "Teardown arrival_timer\n",
      "Teardown server\n",
      "Teardown server_q\n",
      "Teardown single_q_model\n",
      "\n",
      "===== Setup Rep #1 ================================\n",
      "Setup arrival_timer\n",
      "Setup server\n",
      "Setup server_q\n",
      "Setup single_q_model\n",
      "\n",
      "===== Teardown Rep #1 =============================\n",
      "Teardown arrival_timer\n",
      "Teardown server\n",
      "Teardown server_q\n",
      "Teardown single_q_model\n",
      "\n",
      "===== Simulation Completed=========================\n"
     ]
    }
   ],
   "source": [
    "sim.run(100)"
   ]
  },
  {
   "cell_type": "code",
   "execution_count": 5,
   "metadata": {
    "collapsed": false
   },
   "outputs": [
    {
     "name": "stdout",
     "output_type": "stream",
     "text": [
      "\n",
      "===== Finalizing===================================\n",
      "Finalized arrival_timer\n",
      "Finalized server\n",
      "Finalized server_q\n",
      "Finalized single_q_model\n"
     ]
    }
   ],
   "source": [
    "results = sim.finalize()"
   ]
  },
  {
   "cell_type": "code",
   "execution_count": 6,
   "metadata": {
    "collapsed": false
   },
   "outputs": [
    {
     "name": "stdout",
     "output_type": "stream",
     "text": [
      "Seed: None\n",
      "Initial Time: 0\n",
      "Run Start Time: 2016-02-12 06:23:20.022881\n",
      "Run Stop Time: 2016-02-12 06:23:20.038481\n",
      "Elapsed Time: 0:00:00.015600\n"
     ]
    }
   ],
   "source": [
    "results.list_values()"
   ]
  },
  {
   "cell_type": "code",
   "execution_count": 7,
   "metadata": {
    "collapsed": false
   },
   "outputs": [
    {
     "name": "stdout",
     "output_type": "stream",
     "text": [
      "[47, 19]\n"
     ]
    }
   ],
   "source": [
    "print(results.event_counter.rep_counts)"
   ]
  },
  {
   "cell_type": "code",
   "execution_count": null,
   "metadata": {
    "collapsed": true
   },
   "outputs": [],
   "source": []
  }
 ],
 "metadata": {
  "kernelspec": {
   "display_name": "Python 3",
   "language": "python",
   "name": "python3"
  },
  "language_info": {
   "codemirror_mode": {
    "name": "ipython",
    "version": 3
   },
   "file_extension": ".py",
   "mimetype": "text/x-python",
   "name": "python",
   "nbconvert_exporter": "python",
   "pygments_lexer": "ipython3",
   "version": "3.5.1"
  }
 },
 "nbformat": 4,
 "nbformat_minor": 0
}

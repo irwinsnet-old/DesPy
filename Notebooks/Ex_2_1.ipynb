{
 "cells": [
  {
   "cell_type": "code",
   "execution_count": 1,
   "metadata": {
    "collapsed": false
   },
   "outputs": [],
   "source": [
    "%matplotlib inline"
   ]
  },
  {
   "cell_type": "code",
   "execution_count": 2,
   "metadata": {
    "collapsed": true
   },
   "outputs": [],
   "source": [
    "import despy.dp as dp\n",
    "import models.Ex2_1_model as ex2_1"
   ]
  },
  {
   "cell_type": "code",
   "execution_count": 3,
   "metadata": {
    "collapsed": false
   },
   "outputs": [],
   "source": [
    "mod = ex2_1.SingleChannelQueue()\n",
    "sim = dp.Simulation(model = mod)\n",
    "sim.config.reps = 5\n",
    "sim.config.folder_basename = \"C:/Projects/notebook_out/ex_2_1\""
   ]
  },
  {
   "cell_type": "code",
   "execution_count": 4,
   "metadata": {
    "collapsed": false,
    "scrolled": true
   },
   "outputs": [
    {
     "name": "stdout",
     "output_type": "stream",
     "text": [
      "\n",
      "===== Initializing=================================\n",
      "Initialized arrival_timer\n",
      "Initialized server\n",
      "Initialized server_q\n",
      "Initialized single_q_model\n",
      "All Components Initialized.\n"
     ]
    }
   ],
   "source": [
    "sim.initialize()"
   ]
  },
  {
   "cell_type": "code",
   "execution_count": 5,
   "metadata": {
    "collapsed": false
   },
   "outputs": [
    {
     "name": "stdout",
     "output_type": "stream",
     "text": [
      "\n",
      "===== Running======================================\n",
      "\n",
      "===== Setup Rep #0 ================================\n",
      "Setup arrival_timer\n",
      "Setup server\n",
      "Setup server_q\n",
      "Setup single_q_model\n",
      "\n",
      "===== Teardown Rep #0 =============================\n",
      "Teardown arrival_timer\n",
      "Teardown server\n",
      "Teardown server_q\n",
      "Teardown single_q_model\n",
      "\n",
      "===== Setup Rep #1 ================================\n",
      "Setup arrival_timer\n",
      "Setup server\n",
      "Setup server_q\n",
      "Setup single_q_model\n",
      "\n",
      "===== Teardown Rep #1 =============================\n",
      "Teardown arrival_timer\n",
      "Teardown server\n",
      "Teardown server_q\n",
      "Teardown single_q_model\n",
      "\n",
      "===== Setup Rep #2 ================================\n",
      "Setup arrival_timer\n",
      "Setup server\n",
      "Setup server_q\n",
      "Setup single_q_model\n",
      "\n",
      "===== Teardown Rep #2 =============================\n",
      "Teardown arrival_timer\n",
      "Teardown server\n",
      "Teardown server_q\n",
      "Teardown single_q_model\n",
      "\n",
      "===== Setup Rep #3 ================================\n",
      "Setup arrival_timer\n",
      "Setup server\n",
      "Setup server_q\n",
      "Setup single_q_model\n",
      "\n",
      "===== Teardown Rep #3 =============================\n",
      "Teardown arrival_timer\n",
      "Teardown server\n",
      "Teardown server_q\n",
      "Teardown single_q_model\n",
      "\n",
      "===== Setup Rep #4 ================================\n",
      "Setup arrival_timer\n",
      "Setup server\n",
      "Setup server_q\n",
      "Setup single_q_model\n",
      "\n",
      "===== Teardown Rep #4 =============================\n",
      "Teardown arrival_timer\n",
      "Teardown server\n",
      "Teardown server_q\n",
      "Teardown single_q_model\n",
      "\n",
      "===== Simulation Completed=========================\n"
     ]
    }
   ],
   "source": [
    "sim.run(100)"
   ]
  },
  {
   "cell_type": "code",
   "execution_count": 6,
   "metadata": {
    "collapsed": false
   },
   "outputs": [
    {
     "name": "stdout",
     "output_type": "stream",
     "text": [
      "\n",
      "===== Finalizing===================================\n",
      "Finalized arrival_timer\n",
      "Finalized server\n",
      "Finalized server_q\n",
      "Finalized single_q_model\n"
     ]
    }
   ],
   "source": [
    "results = sim.finalize()"
   ]
  },
  {
   "cell_type": "code",
   "execution_count": 7,
   "metadata": {
    "collapsed": false
   },
   "outputs": [
    {
     "name": "stdout",
     "output_type": "stream",
     "text": [
      "Seed: None\n",
      "Initial Time: 0\n",
      "Run Start Time: 2016-02-14 08:48:25.349649\n",
      "Run Stop Time: 2016-02-14 08:48:25.353649\n",
      "Elapsed Time: 0:00:00.004000\n"
     ]
    }
   ],
   "source": [
    "results.list_values()"
   ]
  },
  {
   "cell_type": "code",
   "execution_count": 8,
   "metadata": {
    "collapsed": false
   },
   "outputs": [
    {
     "name": "stdout",
     "output_type": "stream",
     "text": [
      "[45, 21, 20, 28, 24]\n"
     ]
    }
   ],
   "source": [
    "print(results.event_counter.rep_counts)"
   ]
  },
  {
   "cell_type": "code",
   "execution_count": 9,
   "metadata": {
    "collapsed": false
   },
   "outputs": [
    {
     "data": {
      "image/png": "[encoded data removed]",
      "text/plain": [
       "<matplotlib.figure.Figure at 0x7b6cd30>"
      ]
     },
     "metadata": {},
     "output_type": "display_data"
    },
    {
     "data": {
      "text/plain": [
       "<matplotlib.figure.Figure at 0x7e6e898>"
      ]
     },
     "metadata": {},
     "output_type": "display_data"
    }
   ],
   "source": [
    "results.event_counter.show_plot()"
   ]
  },
  {
   "cell_type": "code",
   "execution_count": 10,
   "metadata": {
    "collapsed": false
   },
   "outputs": [
    {
     "name": "stdout",
     "output_type": "stream",
     "text": [
      "   0|   0|    0-1|Event   |arrival_timer    |interval         :2    |Customer         :Customer:1\n",
      "   1|   0|    0-1|Msg     |Starting Service |server station   :0    |Entity           :Customer:1\n",
      "   2|   0|    2-1|Msg     |Entering Queue   |Length           :1    |Entity           :Customer:2\n",
      "   3|   0|    2-1|Event   |arrival_timer    |interval         :5    |Customer         :Customer:2\n",
      "   4|   0|    3+0|Msg     |Leaving Queue    |Length           :0    |Entity           :Customer:2|Time_in_Q        :1    \n",
      "   5|   0|    3+0|Event   |Finished_Service |server: duration :3    |Entity           :Customer:1\n",
      "   6|   0|    3+0|Msg     |Starting Service |server station   :0    |Entity           :Customer:2\n",
      "   7|   0|    6+0|Event   |Finished_Service |server: duration :3    |Entity           :Customer:2\n",
      "   8|   0|    7-1|Event   |arrival_timer    |interval         :3    |Customer         :Customer:3\n",
      "   9|   0|    7-1|Msg     |Starting Service |server station   :0    |Entity           :Customer:3\n",
      "  10|   0|    9+0|Event   |Finished_Service |server: duration :2    |Entity           :Customer:3\n",
      "  11|   0|   10-1|Event   |arrival_timer    |interval         :7    |Customer         :Customer:4\n",
      "  12|   0|   10-1|Msg     |Starting Service |server station   :0    |Entity           :Customer:4\n",
      "  13|   0|   11+0|Event   |Finished_Service |server: duration :1    |Entity           :Customer:4\n",
      "  14|   0|   17-1|Event   |arrival_timer    |interval         :3    |Customer         :Customer:5\n",
      "  15|   0|   17-1|Msg     |Starting Service |server station   :0    |Entity           :Customer:5\n",
      "  16|   0|   20-1|Msg     |Entering Queue   |Length           :1    |Entity           :Customer:6\n",
      "  17|   0|   20-1|Event   |arrival_timer    |interval         :4    |Customer         :Customer:6\n",
      "  18|   0|   20+0|Msg     |Leaving Queue    |Length           :0    |Entity           :Customer:6|Time_in_Q        :0    \n",
      "  19|   0|   20+0|Event   |Finished_Service |server: duration :3    |Entity           :Customer:5\n",
      "  20|   0|   20+0|Msg     |Starting Service |server station   :0    |Entity           :Customer:6\n",
      "  21|   0|   24-1|Msg     |Entering Queue   |Length           :1    |Entity           :Customer:7\n",
      "  22|   0|   24-1|Event   |arrival_timer    |interval         :4    |Customer         :Customer:7\n",
      "  23|   0|   24+0|Msg     |Leaving Queue    |Length           :0    |Entity           :Customer:7|Time_in_Q        :0    \n",
      "  24|   0|   24+0|Event   |Finished_Service |server: duration :4    |Entity           :Customer:6\n",
      "  25|   0|   24+0|Msg     |Starting Service |server station   :0    |Entity           :Customer:7\n",
      "  26|   0|   26+0|Event   |Finished_Service |server: duration :2    |Entity           :Customer:7\n",
      "  27|   0|   28-1|Event   |arrival_timer    |interval         :3    |Customer         :Customer:8\n",
      "  28|   0|   28-1|Msg     |Starting Service |server station   :0    |Entity           :Customer:8\n",
      "  29|   0|   30+0|Event   |Finished_Service |server: duration :2    |Entity           :Customer:8\n",
      "  30|   0|   31-1|Event   |arrival_timer    |interval         :8    |Customer         :Customer:9\n",
      "  31|   0|   31-1|Msg     |Starting Service |server station   :0    |Entity           :Customer:9\n",
      "  32|   0|   36+0|Event   |Finished_Service |server: duration :5    |Entity           :Customer:9\n",
      "  33|   0|   39-1|Event   |arrival_timer    |interval         :7    |Customer         :Customer:10\n",
      "  34|   0|   39-1|Msg     |Starting Service |server station   :0    |Entity           :Customer:10\n",
      "  35|   0|   41+0|Event   |Finished_Service |server: duration :2    |Entity           :Customer:10\n",
      "  36|   0|   46-1|Event   |arrival_timer    |interval         :1    |Customer         :Customer:11\n",
      "  37|   0|   46-1|Msg     |Starting Service |server station   :0    |Entity           :Customer:11\n",
      "  38|   0|   47-1|Msg     |Entering Queue   |Length           :1    |Entity           :Customer:12\n",
      "  39|   0|   47-1|Event   |arrival_timer    |interval         :5    |Customer         :Customer:12\n",
      "  40|   0|   49+0|Msg     |Leaving Queue    |Length           :0    |Entity           :Customer:12|Time_in_Q        :2    \n",
      "  41|   0|   49+0|Event   |Finished_Service |server: duration :3    |Entity           :Customer:11\n",
      "  42|   0|   49+0|Msg     |Starting Service |server station   :0    |Entity           :Customer:12\n",
      "  43|   0|   52-1|Msg     |Entering Queue   |Length           :1    |Entity           :Customer:13\n",
      "  44|   0|   52-1|Event   |arrival_timer    |interval         :2    |Customer         :Customer:13\n",
      "  45|   0|   54-1|Msg     |Entering Queue   |Length           :2    |Entity           :Customer:14\n",
      "  46|   0|   54-1|Event   |arrival_timer    |interval         :2    |Customer         :Customer:14\n",
      "  47|   0|   54+0|Msg     |Leaving Queue    |Length           :1    |Entity           :Customer:13|Time_in_Q        :2    \n",
      "  48|   0|   54+0|Event   |Finished_Service |server: duration :5    |Entity           :Customer:12\n",
      "  49|   0|   54+0|Msg     |Starting Service |server station   :0    |Entity           :Customer:13\n",
      "  50|   0|   55+0|Msg     |Leaving Queue    |Length           :0    |Entity           :Customer:14|Time_in_Q        :1    \n",
      "  51|   0|   55+0|Event   |Finished_Service |server: duration :1    |Entity           :Customer:13\n",
      "  52|   0|   55+0|Msg     |Starting Service |server station   :0    |Entity           :Customer:14\n",
      "  53|   0|   56-1|Msg     |Entering Queue   |Length           :1    |Entity           :Customer:15\n",
      "  54|   0|   56-1|Event   |arrival_timer    |interval         :4    |Customer         :Customer:15\n",
      "  55|   0|   56+0|Msg     |Leaving Queue    |Length           :0    |Entity           :Customer:15|Time_in_Q        :0    \n",
      "  56|   0|   56+0|Event   |Finished_Service |server: duration :1    |Entity           :Customer:14\n",
      "  57|   0|   56+0|Msg     |Starting Service |server station   :0    |Entity           :Customer:15\n",
      "  58|   0|   58+0|Event   |Finished_Service |server: duration :2    |Entity           :Customer:15\n",
      "  59|   0|   60-1|Event   |arrival_timer    |interval         :3    |Customer         :Customer:16\n",
      "  60|   0|   60-1|Msg     |Starting Service |server station   :0    |Entity           :Customer:16\n",
      "  61|   0|   63-1|Msg     |Entering Queue   |Length           :1    |Entity           :Customer:17\n",
      "  62|   0|   63-1|Event   |arrival_timer    |interval         :2    |Customer         :Customer:17\n",
      "  63|   0|   65-1|Msg     |Entering Queue   |Length           :2    |Entity           :Customer:18\n",
      "  64|   0|   65-1|Event   |arrival_timer    |interval         :8    |Customer         :Customer:18\n",
      "  65|   0|   66+0|Msg     |Leaving Queue    |Length           :1    |Entity           :Customer:17|Time_in_Q        :3    \n",
      "  66|   0|   66+0|Event   |Finished_Service |server: duration :6    |Entity           :Customer:16\n",
      "  67|   0|   66+0|Msg     |Starting Service |server station   :0    |Entity           :Customer:17\n",
      "  68|   0|   67+0|Msg     |Leaving Queue    |Length           :0    |Entity           :Customer:18|Time_in_Q        :2    \n",
      "  69|   0|   67+0|Event   |Finished_Service |server: duration :1    |Entity           :Customer:17\n",
      "  70|   0|   67+0|Msg     |Starting Service |server station   :0    |Entity           :Customer:18\n",
      "  71|   0|   69+0|Event   |Finished_Service |server: duration :2    |Entity           :Customer:18\n",
      "  72|   0|   73-1|Event   |arrival_timer    |interval         :7    |Customer         :Customer:19\n",
      "  73|   0|   73-1|Msg     |Starting Service |server station   :0    |Entity           :Customer:19\n",
      "  74|   0|   75+0|Event   |Finished_Service |server: duration :2    |Entity           :Customer:19\n",
      "  75|   0|   80-1|Event   |arrival_timer    |interval         :6    |Customer         :Customer:20\n",
      "  76|   0|   80-1|Msg     |Starting Service |server station   :0    |Entity           :Customer:20\n",
      "  77|   0|   82+0|Event   |Finished_Service |server: duration :2    |Entity           :Customer:20\n",
      "  78|   0|   86-1|Event   |arrival_timer    |interval         :8    |Customer         :Customer:21\n",
      "  79|   0|   86-1|Msg     |Starting Service |server station   :0    |Entity           :Customer:21\n",
      "  80|   0|   89+0|Event   |Finished_Service |server: duration :3    |Entity           :Customer:21\n",
      "  81|   0|   94-1|Event   |arrival_timer    |interval         :4    |Customer         :Customer:22\n",
      "  82|   0|   94-1|Msg     |Starting Service |server station   :0    |Entity           :Customer:22\n",
      "  83|   0|   98-1|Msg     |Entering Queue   |Length           :1    |Entity           :Customer:23\n",
      "  84|   0|   98-1|Event   |arrival_timer    |interval         :5    |Customer         :Customer:23\n",
      "  85|   0|   98+0|Msg     |Leaving Queue    |Length           :0    |Entity           :Customer:23|Time_in_Q        :0    \n",
      "  86|   0|   98+0|Event   |Finished_Service |server: duration :4    |Entity           :Customer:22\n",
      "  87|   0|   98+0|Msg     |Starting Service |server station   :0    |Entity           :Customer:23\n",
      "  88|   1|    0-1|Msg     |Entering Queue   |Length           :1    |Entity           :Customer:24\n",
      "  89|   1|    0-1|Event   |arrival_timer    |interval         :8    |Customer         :Customer:24\n",
      "  90|   1|    8-1|Msg     |Entering Queue   |Length           :2    |Entity           :Customer:25\n",
      "  91|   1|    8-1|Event   |arrival_timer    |interval         :4    |Customer         :Customer:25\n",
      "  92|   1|   12-1|Msg     |Entering Queue   |Length           :3    |Entity           :Customer:26\n",
      "  93|   1|   12-1|Event   |arrival_timer    |interval         :5    |Customer         :Customer:26\n",
      "  94|   1|   17-1|Msg     |Entering Queue   |Length           :4    |Entity           :Customer:27\n",
      "  95|   1|   17-1|Event   |arrival_timer    |interval         :1    |Customer         :Customer:27\n",
      "  96|   1|   18-1|Msg     |Entering Queue   |Length           :5    |Entity           :Customer:28\n",
      "  97|   1|   18-1|Event   |arrival_timer    |interval         :6    |Customer         :Customer:28\n",
      "  98|   1|   24-1|Msg     |Entering Queue   |Length           :6    |Entity           :Customer:29\n",
      "  99|   1|   24-1|Event   |arrival_timer    |interval         :4    |Customer         :Customer:29\n",
      " 100|   1|   28-1|Msg     |Entering Queue   |Length           :7    |Entity           :Customer:30\n",
      " 101|   1|   28-1|Event   |arrival_timer    |interval         :7    |Customer         :Customer:30\n",
      " 102|   1|   35-1|Msg     |Entering Queue   |Length           :8    |Entity           :Customer:31\n",
      " 103|   1|   35-1|Event   |arrival_timer    |interval         :6    |Customer         :Customer:31\n",
      " 104|   1|   41-1|Msg     |Entering Queue   |Length           :9    |Entity           :Customer:32\n",
      " 105|   1|   41-1|Event   |arrival_timer    |interval         :5    |Customer         :Customer:32\n",
      " 106|   1|   46-1|Msg     |Entering Queue   |Length           :10   |Entity           :Customer:33\n",
      " 107|   1|   46-1|Event   |arrival_timer    |interval         :5    |Customer         :Customer:33\n",
      " 108|   1|   51-1|Msg     |Entering Queue   |Length           :11   |Entity           :Customer:34\n",
      " 109|   1|   51-1|Event   |arrival_timer    |interval         :3    |Customer         :Customer:34\n",
      " 110|   1|   54-1|Msg     |Entering Queue   |Length           :12   |Entity           :Customer:35\n",
      " 111|   1|   54-1|Event   |arrival_timer    |interval         :2    |Customer         :Customer:35\n",
      " 112|   1|   56-1|Msg     |Entering Queue   |Length           :13   |Entity           :Customer:36\n",
      " 113|   1|   56-1|Event   |arrival_timer    |interval         :3    |Customer         :Customer:36\n",
      " 114|   1|   59-1|Msg     |Entering Queue   |Length           :14   |Entity           :Customer:37\n",
      " 115|   1|   59-1|Event   |arrival_timer    |interval         :8    |Customer         :Customer:37\n",
      " 116|   1|   67-1|Msg     |Entering Queue   |Length           :15   |Entity           :Customer:38\n",
      " 117|   1|   67-1|Event   |arrival_timer    |interval         :5    |Customer         :Customer:38\n",
      " 118|   1|   72-1|Msg     |Entering Queue   |Length           :16   |Entity           :Customer:39\n",
      " 119|   1|   72-1|Event   |arrival_timer    |interval         :8    |Customer         :Customer:39\n",
      " 120|   1|   80-1|Msg     |Entering Queue   |Length           :17   |Entity           :Customer:40\n",
      " 121|   1|   80-1|Event   |arrival_timer    |interval         :4    |Customer         :Customer:40\n",
      " 122|   1|   84-1|Msg     |Entering Queue   |Length           :18   |Entity           :Customer:41\n",
      " 123|   1|   84-1|Event   |arrival_timer    |interval         :8    |Customer         :Customer:41\n",
      " 124|   1|   92-1|Msg     |Entering Queue   |Length           :19   |Entity           :Customer:42\n",
      " 125|   1|   92-1|Event   |arrival_timer    |interval         :1    |Customer         :Customer:42\n",
      " 126|   1|   93-1|Msg     |Entering Queue   |Length           :20   |Entity           :Customer:43\n",
      " 127|   1|   93-1|Event   |arrival_timer    |interval         :7    |Customer         :Customer:43\n",
      " 128|   1|  100-1|Msg     |Entering Queue   |Length           :21   |Entity           :Customer:44\n",
      " 129|   1|  100-1|Event   |arrival_timer    |interval         :2    |Customer         :Customer:44\n",
      " 130|   2|    0-1|Msg     |Entering Queue   |Length           :1    |Entity           :Customer:45\n",
      " 131|   2|    0-1|Event   |arrival_timer    |interval         :6    |Customer         :Customer:45\n",
      " 132|   2|    6-1|Msg     |Entering Queue   |Length           :2    |Entity           :Customer:46\n",
      " 133|   2|    6-1|Event   |arrival_timer    |interval         :5    |Customer         :Customer:46\n",
      " 134|   2|   11-1|Msg     |Entering Queue   |Length           :3    |Entity           :Customer:47\n",
      " 135|   2|   11-1|Event   |arrival_timer    |interval         :1    |Customer         :Customer:47\n",
      " 136|   2|   12-1|Msg     |Entering Queue   |Length           :4    |Entity           :Customer:48\n",
      " 137|   2|   12-1|Event   |arrival_timer    |interval         :4    |Customer         :Customer:48\n",
      " 138|   2|   16-1|Msg     |Entering Queue   |Length           :5    |Entity           :Customer:49\n",
      " 139|   2|   16-1|Event   |arrival_timer    |interval         :5    |Customer         :Customer:49\n",
      " 140|   2|   21-1|Msg     |Entering Queue   |Length           :6    |Entity           :Customer:50\n",
      " 141|   2|   21-1|Event   |arrival_timer    |interval         :7    |Customer         :Customer:50\n",
      " 142|   2|   28-1|Msg     |Entering Queue   |Length           :7    |Entity           :Customer:51\n",
      " 143|   2|   28-1|Event   |arrival_timer    |interval         :1    |Customer         :Customer:51\n",
      " 144|   2|   29-1|Msg     |Entering Queue   |Length           :8    |Entity           :Customer:52\n",
      " 145|   2|   29-1|Event   |arrival_timer    |interval         :8    |Customer         :Customer:52\n",
      " 146|   2|   37-1|Msg     |Entering Queue   |Length           :9    |Entity           :Customer:53\n",
      " 147|   2|   37-1|Event   |arrival_timer    |interval         :2    |Customer         :Customer:53\n",
      " 148|   2|   39-1|Msg     |Entering Queue   |Length           :10   |Entity           :Customer:54\n",
      " 149|   2|   39-1|Event   |arrival_timer    |interval         :8    |Customer         :Customer:54\n",
      " 150|   2|   47-1|Msg     |Entering Queue   |Length           :11   |Entity           :Customer:55\n",
      " 151|   2|   47-1|Event   |arrival_timer    |interval         :3    |Customer         :Customer:55\n",
      " 152|   2|   50-1|Msg     |Entering Queue   |Length           :12   |Entity           :Customer:56\n",
      " 153|   2|   50-1|Event   |arrival_timer    |interval         :4    |Customer         :Customer:56\n",
      " 154|   2|   54-1|Msg     |Entering Queue   |Length           :13   |Entity           :Customer:57\n",
      " 155|   2|   54-1|Event   |arrival_timer    |interval         :7    |Customer         :Customer:57\n",
      " 156|   2|   61-1|Msg     |Entering Queue   |Length           :14   |Entity           :Customer:58\n",
      " 157|   2|   61-1|Event   |arrival_timer    |interval         :8    |Customer         :Customer:58\n",
      " 158|   2|   69-1|Msg     |Entering Queue   |Length           :15   |Entity           :Customer:59\n",
      " 159|   2|   69-1|Event   |arrival_timer    |interval         :7    |Customer         :Customer:59\n",
      " 160|   2|   76-1|Msg     |Entering Queue   |Length           :16   |Entity           :Customer:60\n",
      " 161|   2|   76-1|Event   |arrival_timer    |interval         :8    |Customer         :Customer:60\n",
      " 162|   2|   84-1|Msg     |Entering Queue   |Length           :17   |Entity           :Customer:61\n",
      " 163|   2|   84-1|Event   |arrival_timer    |interval         :7    |Customer         :Customer:61\n",
      " 164|   2|   91-1|Msg     |Entering Queue   |Length           :18   |Entity           :Customer:62\n",
      " 165|   2|   91-1|Event   |arrival_timer    |interval         :2    |Customer         :Customer:62\n",
      " 166|   2|   93-1|Msg     |Entering Queue   |Length           :19   |Entity           :Customer:63\n",
      " 167|   2|   93-1|Event   |arrival_timer    |interval         :3    |Customer         :Customer:63\n",
      " 168|   2|   96-1|Msg     |Entering Queue   |Length           :20   |Entity           :Customer:64\n",
      " 169|   2|   96-1|Event   |arrival_timer    |interval         :6    |Customer         :Customer:64\n",
      " 170|   3|    0-1|Msg     |Entering Queue   |Length           :1    |Entity           :Customer:65\n",
      " 171|   3|    0-1|Event   |arrival_timer    |interval         :4    |Customer         :Customer:65\n",
      " 172|   3|    4-1|Msg     |Entering Queue   |Length           :2    |Entity           :Customer:66\n",
      " 173|   3|    4-1|Event   |arrival_timer    |interval         :7    |Customer         :Customer:66\n",
      " 174|   3|   11-1|Msg     |Entering Queue   |Length           :3    |Entity           :Customer:67\n",
      " 175|   3|   11-1|Event   |arrival_timer    |interval         :2    |Customer         :Customer:67\n",
      " 176|   3|   13-1|Msg     |Entering Queue   |Length           :4    |Entity           :Customer:68\n",
      " 177|   3|   13-1|Event   |arrival_timer    |interval         :3    |Customer         :Customer:68\n",
      " 178|   3|   16-1|Msg     |Entering Queue   |Length           :5    |Entity           :Customer:69\n",
      " 179|   3|   16-1|Event   |arrival_timer    |interval         :6    |Customer         :Customer:69\n",
      " 180|   3|   22-1|Msg     |Entering Queue   |Length           :6    |Entity           :Customer:70\n",
      " 181|   3|   22-1|Event   |arrival_timer    |interval         :3    |Customer         :Customer:70\n",
      " 182|   3|   25-1|Msg     |Entering Queue   |Length           :7    |Entity           :Customer:71\n",
      " 183|   3|   25-1|Event   |arrival_timer    |interval         :7    |Customer         :Customer:71\n",
      " 184|   3|   32-1|Msg     |Entering Queue   |Length           :8    |Entity           :Customer:72\n",
      " 185|   3|   32-1|Event   |arrival_timer    |interval         :7    |Customer         :Customer:72\n",
      " 186|   3|   39-1|Msg     |Entering Queue   |Length           :9    |Entity           :Customer:73\n",
      " 187|   3|   39-1|Event   |arrival_timer    |interval         :1    |Customer         :Customer:73\n",
      " 188|   3|   40-1|Msg     |Entering Queue   |Length           :10   |Entity           :Customer:74\n",
      " 189|   3|   40-1|Event   |arrival_timer    |interval         :7    |Customer         :Customer:74\n",
      " 190|   3|   47-1|Msg     |Entering Queue   |Length           :11   |Entity           :Customer:75\n",
      " 191|   3|   47-1|Event   |arrival_timer    |interval         :1    |Customer         :Customer:75\n",
      " 192|   3|   48-1|Msg     |Entering Queue   |Length           :12   |Entity           :Customer:76\n",
      " 193|   3|   48-1|Event   |arrival_timer    |interval         :1    |Customer         :Customer:76\n",
      " 194|   3|   49-1|Msg     |Entering Queue   |Length           :13   |Entity           :Customer:77\n",
      " 195|   3|   49-1|Event   |arrival_timer    |interval         :2    |Customer         :Customer:77\n",
      " 196|   3|   51-1|Msg     |Entering Queue   |Length           :14   |Entity           :Customer:78\n",
      " 197|   3|   51-1|Event   |arrival_timer    |interval         :1    |Customer         :Customer:78\n",
      " 198|   3|   52-1|Msg     |Entering Queue   |Length           :15   |Entity           :Customer:79\n",
      " 199|   3|   52-1|Event   |arrival_timer    |interval         :3    |Customer         :Customer:79\n",
      " 200|   3|   55-1|Msg     |Entering Queue   |Length           :16   |Entity           :Customer:80\n",
      " 201|   3|   55-1|Event   |arrival_timer    |interval         :3    |Customer         :Customer:80\n",
      " 202|   3|   58-1|Msg     |Entering Queue   |Length           :17   |Entity           :Customer:81\n",
      " 203|   3|   58-1|Event   |arrival_timer    |interval         :7    |Customer         :Customer:81\n",
      " 204|   3|   65-1|Msg     |Entering Queue   |Length           :18   |Entity           :Customer:82\n",
      " 205|   3|   65-1|Event   |arrival_timer    |interval         :5    |Customer         :Customer:82\n",
      " 206|   3|   70-1|Msg     |Entering Queue   |Length           :19   |Entity           :Customer:83\n",
      " 207|   3|   70-1|Event   |arrival_timer    |interval         :3    |Customer         :Customer:83\n",
      " 208|   3|   73-1|Msg     |Entering Queue   |Length           :20   |Entity           :Customer:84\n",
      " 209|   3|   73-1|Event   |arrival_timer    |interval         :3    |Customer         :Customer:84\n",
      " 210|   3|   76-1|Msg     |Entering Queue   |Length           :21   |Entity           :Customer:85\n",
      " 211|   3|   76-1|Event   |arrival_timer    |interval         :2    |Customer         :Customer:85\n",
      " 212|   3|   78-1|Msg     |Entering Queue   |Length           :22   |Entity           :Customer:86\n",
      " 213|   3|   78-1|Event   |arrival_timer    |interval         :3    |Customer         :Customer:86\n",
      " 214|   3|   81-1|Msg     |Entering Queue   |Length           :23   |Entity           :Customer:87\n",
      " 215|   3|   81-1|Event   |arrival_timer    |interval         :2    |Customer         :Customer:87\n",
      " 216|   3|   83-1|Msg     |Entering Queue   |Length           :24   |Entity           :Customer:88\n",
      " 217|   3|   83-1|Event   |arrival_timer    |interval         :4    |Customer         :Customer:88\n",
      " 218|   3|   87-1|Msg     |Entering Queue   |Length           :25   |Entity           :Customer:89\n",
      " 219|   3|   87-1|Event   |arrival_timer    |interval         :4    |Customer         :Customer:89\n",
      " 220|   3|   91-1|Msg     |Entering Queue   |Length           :26   |Entity           :Customer:90\n",
      " 221|   3|   91-1|Event   |arrival_timer    |interval         :6    |Customer         :Customer:90\n",
      " 222|   3|   97-1|Msg     |Entering Queue   |Length           :27   |Entity           :Customer:91\n",
      " 223|   3|   97-1|Event   |arrival_timer    |interval         :2    |Customer         :Customer:91\n",
      " 224|   3|   99-1|Msg     |Entering Queue   |Length           :28   |Entity           :Customer:92\n",
      " 225|   3|   99-1|Event   |arrival_timer    |interval         :4    |Customer         :Customer:92\n",
      " 226|   4|    0-1|Msg     |Entering Queue   |Length           :1    |Entity           :Customer:93\n",
      " 227|   4|    0-1|Event   |arrival_timer    |interval         :8    |Customer         :Customer:93\n",
      " 228|   4|    8-1|Msg     |Entering Queue   |Length           :2    |Entity           :Customer:94\n",
      " 229|   4|    8-1|Event   |arrival_timer    |interval         :3    |Customer         :Customer:94\n",
      " 230|   4|   11-1|Msg     |Entering Queue   |Length           :3    |Entity           :Customer:95\n",
      " 231|   4|   11-1|Event   |arrival_timer    |interval         :8    |Customer         :Customer:95\n",
      " 232|   4|   19-1|Msg     |Entering Queue   |Length           :4    |Entity           :Customer:96\n",
      " 233|   4|   19-1|Event   |arrival_timer    |interval         :3    |Customer         :Customer:96\n",
      " 234|   4|   22-1|Msg     |Entering Queue   |Length           :5    |Entity           :Customer:97\n",
      " 235|   4|   22-1|Event   |arrival_timer    |interval         :3    |Customer         :Customer:97\n",
      " 236|   4|   25-1|Msg     |Entering Queue   |Length           :6    |Entity           :Customer:98\n",
      " 237|   4|   25-1|Event   |arrival_timer    |interval         :7    |Customer         :Customer:98\n",
      " 238|   4|   32-1|Msg     |Entering Queue   |Length           :7    |Entity           :Customer:99\n",
      " 239|   4|   32-1|Event   |arrival_timer    |interval         :2    |Customer         :Customer:99\n",
      " 240|   4|   34-1|Msg     |Entering Queue   |Length           :8    |Entity           :Customer:100\n",
      " 241|   4|   34-1|Event   |arrival_timer    |interval         :2    |Customer         :Customer:100\n",
      " 242|   4|   36-1|Msg     |Entering Queue   |Length           :9    |Entity           :Customer:101\n",
      " 243|   4|   36-1|Event   |arrival_timer    |interval         :5    |Customer         :Customer:101\n",
      " 244|   4|   41-1|Msg     |Entering Queue   |Length           :10   |Entity           :Customer:102\n",
      " 245|   4|   41-1|Event   |arrival_timer    |interval         :5    |Customer         :Customer:102\n",
      " 246|   4|   46-1|Msg     |Entering Queue   |Length           :11   |Entity           :Customer:103\n",
      " 247|   4|   46-1|Event   |arrival_timer    |interval         :4    |Customer         :Customer:103\n",
      " 248|   4|   50-1|Msg     |Entering Queue   |Length           :12   |Entity           :Customer:104\n",
      " 249|   4|   50-1|Event   |arrival_timer    |interval         :5    |Customer         :Customer:104\n",
      " 250|   4|   55-1|Msg     |Entering Queue   |Length           :13   |Entity           :Customer:105\n",
      " 251|   4|   55-1|Event   |arrival_timer    |interval         :1    |Customer         :Customer:105\n",
      " 252|   4|   56-1|Msg     |Entering Queue   |Length           :14   |Entity           :Customer:106\n",
      " 253|   4|   56-1|Event   |arrival_timer    |interval         :3    |Customer         :Customer:106\n",
      " 254|   4|   59-1|Msg     |Entering Queue   |Length           :15   |Entity           :Customer:107\n",
      " 255|   4|   59-1|Event   |arrival_timer    |interval         :8    |Customer         :Customer:107\n",
      " 256|   4|   67-1|Msg     |Entering Queue   |Length           :16   |Entity           :Customer:108\n",
      " 257|   4|   67-1|Event   |arrival_timer    |interval         :7    |Customer         :Customer:108\n",
      " 258|   4|   74-1|Msg     |Entering Queue   |Length           :17   |Entity           :Customer:109\n",
      " 259|   4|   74-1|Event   |arrival_timer    |interval         :8    |Customer         :Customer:109\n",
      " 260|   4|   82-1|Msg     |Entering Queue   |Length           :18   |Entity           :Customer:110\n",
      " 261|   4|   82-1|Event   |arrival_timer    |interval         :4    |Customer         :Customer:110\n",
      " 262|   4|   86-1|Msg     |Entering Queue   |Length           :19   |Entity           :Customer:111\n",
      " 263|   4|   86-1|Event   |arrival_timer    |interval         :5    |Customer         :Customer:111\n",
      " 264|   4|   91-1|Msg     |Entering Queue   |Length           :20   |Entity           :Customer:112\n",
      " 265|   4|   91-1|Event   |arrival_timer    |interval         :2    |Customer         :Customer:112\n",
      " 266|   4|   93-1|Msg     |Entering Queue   |Length           :21   |Entity           :Customer:113\n",
      " 267|   4|   93-1|Event   |arrival_timer    |interval         :2    |Customer         :Customer:113\n",
      " 268|   4|   95-1|Msg     |Entering Queue   |Length           :22   |Entity           :Customer:114\n",
      " 269|   4|   95-1|Event   |arrival_timer    |interval         :4    |Customer         :Customer:114\n",
      " 270|   4|   99-1|Msg     |Entering Queue   |Length           :23   |Entity           :Customer:115\n",
      " 271|   4|   99-1|Event   |arrival_timer    |interval         :1    |Customer         :Customer:115\n",
      " 272|   4|  100-1|Msg     |Entering Queue   |Length           :24   |Entity           :Customer:116\n",
      " 273|   4|  100-1|Event   |arrival_timer    |interval         :1    |Customer         :Customer:116\n"
     ]
    }
   ],
   "source": [
    "results.trace.show()"
   ]
  },
  {
   "cell_type": "code",
   "execution_count": 11,
   "metadata": {
    "collapsed": false
   },
   "outputs": [
    {
     "data": {
      "text/plain": [
       "<despy.output.trace.CSV_file at 0x7cd7f28>"
      ]
     },
     "execution_count": 11,
     "metadata": {},
     "output_type": "execute_result"
    }
   ],
   "source": [
    "results.trace.write_csv()"
   ]
  },
  {
   "cell_type": "code",
   "execution_count": null,
   "metadata": {
    "collapsed": true
   },
   "outputs": [],
   "source": []
  }
 ],
 "metadata": {
  "kernelspec": {
   "display_name": "Python 3",
   "language": "python",
   "name": "python3"
  },
  "language_info": {
   "codemirror_mode": {
    "name": "ipython",
    "version": 3
   },
   "file_extension": ".py",
   "mimetype": "text/x-python",
   "name": "python",
   "nbconvert_exporter": "python",
   "pygments_lexer": "ipython3",
   "version": "3.5.1"
  }
 },
 "nbformat": 4,
 "nbformat_minor": 0
}

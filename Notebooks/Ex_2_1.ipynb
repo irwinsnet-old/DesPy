{
 "cells": [
  {
   "cell_type": "code",
   "execution_count": 1,
   "metadata": {
    "collapsed": true
   },
   "outputs": [],
   "source": [
    "import despy as dp\n",
    "import models.Ex2_1 as ex2_1"
   ]
  },
  {
   "cell_type": "code",
   "execution_count": 2,
   "metadata": {
    "collapsed": false
   },
   "outputs": [],
   "source": [
    "mod = ex2_1.SingleChannelQueue()\n",
    "sim = dp.Simulation(model = mod)\n",
    "sim.config.reps = 2"
   ]
  },
  {
   "cell_type": "code",
   "execution_count": 3,
   "metadata": {
    "collapsed": false,
    "scrolled": true
   },
   "outputs": [
    {
     "name": "stdout",
     "output_type": "stream",
     "text": [
      "\n",
      "=====Initializing==========\n",
      "Seed: None\n",
      "Initial Time: 0\n",
      "Initialized server\n",
      "Initialized server_q\n",
      "Initialized arrival_timer\n",
      "Initialized single_q_model\n",
      "All Components Initialized.\n"
     ]
    }
   ],
   "source": [
    "sim.initialize()"
   ]
  },
  {
   "cell_type": "code",
   "execution_count": 4,
   "metadata": {
    "collapsed": false
   },
   "outputs": [
    {
     "name": "stdout",
     "output_type": "stream",
     "text": [
      "\n",
      "=====Setup Rep #0 ==========\n",
      "Setup server\n",
      "Setup server_q\n",
      "Setup arrival_timer\n",
      "Setup single_q_model\n",
      "\n",
      "=====Teardown Rep #0 ==========\n",
      "Teardown server\n",
      "Teardown server_q\n",
      "Teardown arrival_timer\n",
      "Teardown single_q_model\n",
      "\n",
      "=====Setup Rep #1 ==========\n",
      "Setup server\n",
      "Setup server_q\n",
      "Setup arrival_timer\n",
      "Setup single_q_model\n",
      "\n",
      "=====Teardown Rep #1 ==========\n",
      "Teardown server\n",
      "Teardown server_q\n",
      "Teardown arrival_timer\n",
      "Teardown single_q_model\n"
     ]
    }
   ],
   "source": [
    "sim.run(100)"
   ]
  },
  {
   "cell_type": "code",
   "execution_count": 7,
   "metadata": {
    "collapsed": false
   },
   "outputs": [
    {
     "name": "stdout",
     "output_type": "stream",
     "text": [
      "\n",
      "=====Finalizing==========\n",
      "Finalized server\n",
      "Finalized server_q\n",
      "Finalized arrival_timer\n",
      "Finalized single_q_model\n"
     ]
    }
   ],
   "source": [
    "results = sim.finalize()"
   ]
  },
  {
   "cell_type": "code",
   "execution_count": 8,
   "metadata": {
    "collapsed": false
   },
   "outputs": [
    {
     "name": "stdout",
     "output_type": "stream",
     "text": [
      "<despy.output.results.Results object at 0x0000000007975F60>\n"
     ]
    }
   ],
   "source": [
    "print(results)"
   ]
  },
  {
   "cell_type": "code",
   "execution_count": null,
   "metadata": {
    "collapsed": true
   },
   "outputs": [],
   "source": []
  }
 ],
 "metadata": {
  "kernelspec": {
   "display_name": "Python 3",
   "language": "python",
   "name": "python3"
  },
  "language_info": {
   "codemirror_mode": {
    "name": "ipython",
    "version": 3
   },
   "file_extension": ".py",
   "mimetype": "text/x-python",
   "name": "python",
   "nbconvert_exporter": "python",
   "pygments_lexer": "ipython3",
   "version": "3.5.1"
  }
 },
 "nbformat": 4,
 "nbformat_minor": 0
}
